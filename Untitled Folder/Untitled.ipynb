{
 "cells": [
  {
   "cell_type": "code",
   "execution_count": null,
   "metadata": {},
   "outputs": [],
   "source": [
    "import time\n",
    "import os\n",
    "\n",
    "from multiprocessing import Pool\n",
    "\n",
    "def do_work(x):\n",
    "    print('value', x, '에 대한 작업 PID = ', os.getpid())\n",
    "    time.sleep(1)\n",
    "    return x * x\n",
    "\n",
    "\n",
    "if __name__ == '__main__':\n",
    "    pool = Pool(3)\n",
    "    start_time = int(time.time())\n",
    "\n",
    "    print(pool.map(do_work, range(0, 10)))\n",
    "    print('Seconds: %s' % (time.time() - start_time))\n"
   ]
  },
  {
   "cell_type": "code",
   "execution_count": null,
   "metadata": {},
   "outputs": [],
   "source": []
  }
 ],
 "metadata": {
  "kernelspec": {
   "display_name": "Python 3.7.7 64-bit ('r': conda)",
   "language": "python",
   "name": "python37764bitrconda696de0974661431c9aef1c3870e695c0"
  },
  "language_info": {
   "codemirror_mode": {
    "name": "ipython",
    "version": 3
   },
   "file_extension": ".py",
   "mimetype": "text/x-python",
   "name": "python",
   "nbconvert_exporter": "python",
   "pygments_lexer": "ipython3",
   "version": "3.7.7"
  }
 },
 "nbformat": 4,
 "nbformat_minor": 4
}
