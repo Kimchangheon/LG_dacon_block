{
 "cells": [
  {
   "cell_type": "code",
   "execution_count": 1,
   "metadata": {},
   "outputs": [
    {
     "ename": "SyntaxError",
     "evalue": "invalid syntax (<ipython-input-1-1712ef06e7b9>, line 5)",
     "output_type": "error",
     "traceback": [
      "\u001b[1;36m  File \u001b[1;32m\"<ipython-input-1-1712ef06e7b9>\"\u001b[1;36m, line \u001b[1;32m5\u001b[0m\n\u001b[1;33m    1. 본 코드는 대회 참가를 돕고자 단순 예시를 작성한 것으로 참고용으로 사용바랍니다.\u001b[0m\n\u001b[1;37m       ^\u001b[0m\n\u001b[1;31mSyntaxError\u001b[0m\u001b[1;31m:\u001b[0m invalid syntax\n"
     ]
    }
   ],
   "source": [
    "## [Dacon] 블럭 장난감 제조 공정 최적화 경진대회\n",
    "## _____ (팀명)\n",
    "## 2020년 월 일 (제출날짜)\n",
    "\n",
    "1. 본 코드는 대회 참가를 돕고자 단순 예시를 작성한 것으로 참고용으로 사용바랍니다.\n",
    "2. 본 코드는 자유롭게 수정하여 사용 할 수 있습니다.\n",
    "3. 추가 모듈 보러가기: https://bit.ly/36MNs76"
   ]
  },
  {
   "cell_type": "markdown",
   "metadata": {},
   "source": [
    "## 1. 라이브러리 및 데이터\n",
    "## Library & Data"
   ]
  },
  {
   "cell_type": "code",
   "execution_count": 2,
   "metadata": {},
   "outputs": [],
   "source": [
    "import pandas as pd\n",
    "import numpy as np\n",
    "import multiprocessing\n",
    "import warnings\n",
    "from copy import deepcopy\n",
    "from module.genome import Genome, genome_score\n",
    "warnings.filterwarnings(action='ignore')\n",
    "np.random.seed(777)"
   ]
  },
  {
   "cell_type": "code",
   "execution_count": 3,
   "metadata": {},
   "outputs": [
    {
     "name": "stdout",
     "output_type": "stream",
     "text": [
      "Python 3.7.6\n",
      "Pandas : 1.0.1\n",
      "Numpy : 1.18.1\n"
     ]
    }
   ],
   "source": [
    "!python --version\n",
    "print('Pandas : %s'%(pd.__version__))\n",
    "print('Numpy : %s'%(np.__version__))"
   ]
  },
  {
   "cell_type": "markdown",
   "metadata": {},
   "source": [
    "## 2. 데이터 전처리\n",
    "## Data Cleansing & Pre-Processing  "
   ]
  },
  {
   "cell_type": "code",
   "execution_count": 3,
   "metadata": {},
   "outputs": [],
   "source": [
    "# 입력하세요."
   ]
  },
  {
   "cell_type": "markdown",
   "metadata": {},
   "source": [
    "## 3. 탐색적 자료분석\n",
    "## Exploratory Data Analysis"
   ]
  },
  {
   "cell_type": "code",
   "execution_count": 4,
   "metadata": {},
   "outputs": [],
   "source": [
    "# 입력하세요."
   ]
  },
  {
   "cell_type": "markdown",
   "metadata": {},
   "source": [
    "## 4. 변수 선택 및 모델 구축\n",
    "## Feature Engineering & Initial Modeling  "
   ]
  },
  {
   "cell_type": "code",
   "execution_count": 4,
   "metadata": {
    "scrolled": true
   },
   "outputs": [
    {
     "name": "stdout",
     "output_type": "stream",
     "text": [
      "try문의 0\n",
      "except문의0\n",
      "except문의1\n",
      "except문의2\n",
      "except문의3\n",
      "except문의4\n"
     ]
    }
   ],
   "source": [
    "CPU_CORE = multiprocessing.cpu_count() # 멀티프로세싱 CPU 사용 수\n",
    "N_POPULATION = 50                      # 세대당 생성수\n",
    "N_BEST = 5                             # 베스트 수\n",
    "N_CHILDREN = 5                         # 자손 유전자 수\n",
    "PROB_MUTATION = 0.5                    # 돌연변이\n",
    "REVERSE = False                        # 배열 순서 (False: ascending order, True: descending order)\n",
    "\n",
    "score_ini = 1e8                        # 초기 점수\n",
    "input_length = 125                     # 입력 데이터 길이\n",
    "output_length_1 = 5                    # Event (CHECK_1~4, PROCESS)\n",
    "output_length_2 = 12                   # MOL(0~5.5, step:0.5)\n",
    "h1 = 50                                # 히든레이어1 노드 수\n",
    "h2 = 50                                # 히든레이어2 노드 수\n",
    "h3 = 50                                # 히든레이어3 노드 수\n",
    "EPOCHS = 15                            # 반복 횟수\n",
    "\n",
    "genomes = []\n",
    "for _ in range(N_POPULATION):\n",
    "    genome = Genome(score_ini, input_length, output_length_1, output_length_2, h1, h2, h3)\n",
    "    genomes.append(genome)\n",
    "try:\n",
    "    for i in range(N_BEST):\n",
    "        print(\"try문의 \" + str(i))\n",
    "        genomes[i] = best_genomes[i]\n",
    "except:\n",
    "    best_genomes = []\n",
    "    k=0\n",
    "    for _ in range(5):\n",
    "        print(\"except문의\" + str(k))\n",
    "        genome = Genome(score_ini, input_length, output_length_1, output_length_2, h1, h2, h3)\n",
    "        best_genomes.append(genome)\n",
    "        k = k+1"
   ]
  },
  {
   "cell_type": "code",
   "execution_count": 5,
   "metadata": {},
   "outputs": [
    {
     "data": {
      "text/plain": [
       "[<module.genome.Genome at 0x12e17a76788>,\n",
       " <module.genome.Genome at 0x12e17a767c8>,\n",
       " <module.genome.Genome at 0x12e17a76848>,\n",
       " <module.genome.Genome at 0x12e17a76888>,\n",
       " <module.genome.Genome at 0x12e17a768c8>]"
      ]
     },
     "execution_count": 5,
     "metadata": {},
     "output_type": "execute_result"
    }
   ],
   "source": [
    "best_genomes"
   ]
  },
  {
   "cell_type": "code",
   "execution_count": 6,
   "metadata": {},
   "outputs": [
    {
     "data": {
      "text/plain": [
       "5"
      ]
     },
     "execution_count": 6,
     "metadata": {},
     "output_type": "execute_result"
    }
   ],
   "source": [
    "len(best_genomes)"
   ]
  },
  {
   "cell_type": "markdown",
   "metadata": {},
   "source": [
    "## 5. 모델 학습 및 검증\n",
    "## Model Tuning & Evaluation\n",
    "1. PRT는 고정값 사용\n",
    "2. Event A, Event B (MOL_A, MOL_B) 를 같은 값으로 제한\n",
    "3. Event는 CHECK와 PROCESS 만 사용함\n",
    "4. 목적 함수로 수요 부족분만 고려함\n",
    "5. Event와 MOL에 대해 인공신경망 모델을 만들어 유전 알고리즘으로 학습"
   ]
  },
  {
   "cell_type": "code",
   "execution_count": 9,
   "metadata": {},
   "outputs": [
    {
     "data": {
      "text/plain": [
       "8"
      ]
     },
     "execution_count": 9,
     "metadata": {},
     "output_type": "execute_result"
    }
   ],
   "source": [
    "CPU_CORE"
   ]
  },
  {
   "cell_type": "code",
   "execution_count": 4,
   "metadata": {},
   "outputs": [
    {
     "name": "stdout",
     "output_type": "stream",
     "text": [
      "EPOCH #1\tHistory Best Score: 1442380.0\tBest Score: 1442380.0\tMean Score: 5161713.6\n",
      "EPOCH #2\tHistory Best Score: 955268.0\tBest Score: 955268.0\tMean Score: 3066965.8\n",
      "EPOCH #3\tHistory Best Score: 952029.0\tBest Score: 952029.0\tMean Score: 1206659.0\n",
      "EPOCH #4\tHistory Best Score: 109133.0\tBest Score: 109133.0\tMean Score: 637072.2\n",
      "EPOCH #5\tHistory Best Score: 109133.0\tBest Score: 109133.0\tMean Score: 198885.2\n",
      "EPOCH #6\tHistory Best Score: 109133.0\tBest Score: 236108.0\tMean Score: 390657.6\n",
      "EPOCH #7\tHistory Best Score: 109133.0\tBest Score: 109133.0\tMean Score: 172454.0\n",
      "EPOCH #8\tHistory Best Score: 109133.0\tBest Score: 109133.0\tMean Score: 292902.6\n",
      "EPOCH #9\tHistory Best Score: 109133.0\tBest Score: 109133.0\tMean Score: 109133.0\n",
      "EPOCH #10\tHistory Best Score: 109133.0\tBest Score: 109133.0\tMean Score: 129131.6\n",
      "EPOCH #11\tHistory Best Score: 109133.0\tBest Score: 109133.0\tMean Score: 159832.8\n",
      "EPOCH #12\tHistory Best Score: 109133.0\tBest Score: 109133.0\tMean Score: 187933.0\n",
      "EPOCH #13\tHistory Best Score: 109133.0\tBest Score: 109133.0\tMean Score: 109133.0\n",
      "EPOCH #14\tHistory Best Score: 109133.0\tBest Score: 109133.0\tMean Score: 109133.0\n",
      "EPOCH #15\tHistory Best Score: 109133.0\tBest Score: 109133.0\tMean Score: 111982.2\n"
     ]
    }
   ],
   "source": [
    "n_gen = 1\n",
    "score_history = []\n",
    "high_score_history = []\n",
    "mean_score_history = []\n",
    "while n_gen <= EPOCHS:    \n",
    "    genomes = np.array(genomes)    \n",
    "    while len(genomes)%CPU_CORE != 0:\n",
    "        genomes = np.append(genomes, Genome(score_ini, input_length, output_length_1, output_length_2, h1, h2, h3))\n",
    "    genomes = genomes.reshape((len(genomes)//CPU_CORE, CPU_CORE))\n",
    "    \n",
    "    for idx, _genomes in enumerate(genomes):\n",
    "        if __name__ == '__main__':\n",
    "            pool = multiprocessing.Pool(processes=CPU_CORE)\n",
    "            genomes[idx] = pool.map(genome_score, _genomes)\n",
    "            pool.close()\n",
    "            pool.join()    \n",
    "    genomes = list(genomes.reshape(genomes.shape[0]*genomes.shape[1]))    \n",
    "    \n",
    "     # score에 따라 정렬\n",
    "    genomes.sort(key=lambda x: x.score, reverse=REVERSE)\n",
    "    \n",
    "    # 평균 점수\n",
    "    s = 0 \n",
    "    for i in range(N_BEST):\n",
    "        s += genomes[i].score\n",
    "    s /= N_BEST\n",
    "    \n",
    "    # Best Score\n",
    "    bs = genomes[0].score \n",
    "    \n",
    "    # Best Model 추가\n",
    "    if best_genomes is not None:\n",
    "        genomes.extend(best_genomes)\n",
    "        \n",
    "    # score에 따라 정렬\n",
    "    genomes.sort(key=lambda x: x.score, reverse=REVERSE)\n",
    "    \n",
    "    score_history.append([n_gen, genomes[0].score])\n",
    "    high_score_history.append([n_gen, bs])\n",
    "    mean_score_history.append([n_gen, s])\n",
    "    \n",
    "    # 결과 출력\n",
    "    print('EPOCH #%s\\tHistory Best Score: %s\\tBest Score: %s\\tMean Score: %s' % (n_gen, genomes[0].score, bs, s))    \n",
    "    \n",
    "    # 모델 업데이트\n",
    "    best_genomes = deepcopy(genomes[:N_BEST])\n",
    "    \n",
    "    # CHILDREN 생성\n",
    "    for i in range(N_CHILDREN):\n",
    "        new_genome = deepcopy(best_genomes[0])\n",
    "        a_genome = np.random.choice(best_genomes)\n",
    "        b_genome = np.random.choice(best_genomes)\n",
    "        \n",
    "        for j in range(input_length):\n",
    "            cut = np.random.randint(new_genome.w1.shape[1])\n",
    "            new_genome.w1[j, :cut] = a_genome.w1[j, :cut]\n",
    "            new_genome.w1[j, cut:] = b_genome.w1[j, cut:]\n",
    "        \n",
    "        for j in range(h1):\n",
    "            cut = np.random.randint(new_genome.w2.shape[1])\n",
    "            new_genome.w2[j, :cut] = a_genome.w2[j, :cut]\n",
    "            new_genome.w2[j, cut:] = b_genome.w2[j, cut:]\n",
    "        \n",
    "        for j in range(h2):\n",
    "            cut = np.random.randint(new_genome.w3.shape[1])\n",
    "            new_genome.w3[j, :cut] = a_genome.w3[j, :cut]\n",
    "            new_genome.w3[j, cut:] = b_genome.w3[j, cut:]\n",
    "        \n",
    "        for j in range(h3):\n",
    "            cut = np.random.randint(new_genome.w4.shape[1])\n",
    "            new_genome.w4[j, :cut] = a_genome.w4[j, :cut]\n",
    "            new_genome.w4[j, cut:] = b_genome.w4[j, cut:]\n",
    "            \n",
    "        for j in range(input_length):\n",
    "            cut = np.random.randint(new_genome.w5.shape[1])\n",
    "            new_genome.w5[j, :cut] = a_genome.w5[j, :cut]\n",
    "            new_genome.w5[j, cut:] = b_genome.w5[j, cut:]\n",
    "        \n",
    "        for j in range(h1):\n",
    "            cut = np.random.randint(new_genome.w6.shape[1])\n",
    "            new_genome.w6[j, :cut] = a_genome.w6[j, :cut]\n",
    "            new_genome.w6[j, cut:] = b_genome.w6[j, cut:]\n",
    "        \n",
    "        for j in range(h2):\n",
    "            cut = np.random.randint(new_genome.w7.shape[1])\n",
    "            new_genome.w7[j, :cut] = a_genome.w7[j, :cut]\n",
    "            new_genome.w7[j, cut:] = b_genome.w7[j, cut:]\n",
    "        \n",
    "        for j in range(h3):\n",
    "            cut = np.random.randint(new_genome.w8.shape[1])\n",
    "            new_genome.w8[j, :cut] = a_genome.w8[j, :cut]\n",
    "            new_genome.w8[j, cut:] = b_genome.w8[j, cut:]\n",
    "        \n",
    "        best_genomes.append(new_genome)\n",
    "    \n",
    "    # 모델 초기화\n",
    "    genomes = []\n",
    "    for i in range(int(N_POPULATION / len(best_genomes))):\n",
    "        for bg in best_genomes:\n",
    "            new_genome = deepcopy(bg)            \n",
    "            mean = 0\n",
    "            stddev = 0.2                        \n",
    "            # 50% 확률로 모델 변형\n",
    "            if np.random.uniform(0, 1) < PROB_MUTATION:\n",
    "                new_genome.w1 += new_genome.w1 * np.random.normal(mean, stddev, size=(input_length, h1)) * np.random.randint(0, 2, (input_length, h1))\n",
    "            if np.random.uniform(0, 1) < PROB_MUTATION:\n",
    "                new_genome.w2 += new_genome.w2 * np.random.normal(mean, stddev, size=(h1, h2)) * np.random.randint(0, 2, (h1, h2))\n",
    "            if np.random.uniform(0, 1) < PROB_MUTATION:\n",
    "                new_genome.w3 += new_genome.w3 * np.random.normal(mean, stddev, size=(h2, h3)) * np.random.randint(0, 2, (h2, h3))\n",
    "            if np.random.uniform(0, 1) < PROB_MUTATION:\n",
    "                new_genome.w4 += new_genome.w4 * np.random.normal(mean, stddev, size=(h3, output_length_1)) * np.random.randint(0, 2, (h3, output_length_1))                \n",
    "            if np.random.uniform(0, 1) < PROB_MUTATION:\n",
    "                new_genome.w5 += new_genome.w5 * np.random.normal(mean, stddev, size=(input_length, h1)) * np.random.randint(0, 2, (input_length, h1))\n",
    "            if np.random.uniform(0, 1) < PROB_MUTATION:\n",
    "                new_genome.w6 += new_genome.w6 * np.random.normal(mean, stddev, size=(h1, h2)) * np.random.randint(0, 2, (h1, h2))\n",
    "            if np.random.uniform(0, 1) < PROB_MUTATION:\n",
    "                new_genome.w7 += new_genome.w7 * np.random.normal(mean, stddev, size=(h2, h3)) * np.random.randint(0, 2, (h2, h3))\n",
    "            if np.random.uniform(0, 1) < PROB_MUTATION:\n",
    "                new_genome.w8 += new_genome.w8 * np.random.normal(mean, stddev, size=(h3, output_length_2)) * np.random.randint(0, 2, (h3, output_length_2))\n",
    "            genomes.append(new_genome)\n",
    "            \n",
    "    if REVERSE:\n",
    "        if bs < score_ini:\n",
    "            genomes[len(genomes)//2:] = [Genome(score_ini, input_length, output_length_1, output_length_2, h1, h2, h3) for _ in range(N_POPULATION//2)]\n",
    "    else:\n",
    "        if bs > score_ini:\n",
    "            genomes[len(genomes)//2:] = [Genome(score_ini, input_length, output_length_1, output_length_2, h1, h2, h3) for _ in range(N_POPULATION//2)]  \n",
    "        \n",
    "    n_gen += 1"
   ]
  },
  {
   "cell_type": "markdown",
   "metadata": {},
   "source": [
    "## 6. 결과 및 결언\n",
    "## Conclusion & Discussion"
   ]
  },
  {
   "cell_type": "markdown",
   "metadata": {},
   "source": [
    "### 결과 그래프"
   ]
  },
  {
   "cell_type": "code",
   "execution_count": 6,
   "metadata": {},
   "outputs": [
    {
     "data": {
      "image/png": "[encoded data removed]",
      "text/plain": [
       "<Figure size 432x288 with 1 Axes>"
      ]
     },
     "metadata": {
      "needs_background": "light"
     },
     "output_type": "display_data"
    }
   ],
   "source": [
    "import matplotlib.pyplot as plt\n",
    "\n",
    "# Score Graph\n",
    "score_history = np.array(score_history)\n",
    "high_score_history = np.array(high_score_history)\n",
    "mean_score_history = np.array(mean_score_history)\n",
    "\n",
    "plt.plot(score_history[:,0], score_history[:,1], '-o', label='BEST')\n",
    "plt.plot(high_score_history[:,0], high_score_history[:,1], '-o', label='High')\n",
    "plt.plot(mean_score_history[:,0], mean_score_history[:,1], '-o', label='Mean')\n",
    "plt.legend()\n",
    "plt.xlim(0, EPOCHS)\n",
    "plt.ylim(bottom=0)\n",
    "plt.xlabel('Epochs')\n",
    "plt.ylabel('Score')\n",
    "plt.show()"
   ]
  },
  {
   "cell_type": "markdown",
   "metadata": {},
   "source": [
    "### Submission 파일 만들기"
   ]
  },
  {
   "cell_type": "code",
   "execution_count": 7,
   "metadata": {},
   "outputs": [],
   "source": [
    "# 재고 계산\n",
    "from module.simulator import Simulator\n",
    "simulator = Simulator()\n",
    "order = pd.read_csv('module/order.csv')\n",
    "submission = best_genomes[0].predict(order)\n",
    "_, df_stock = simulator.get_score(submission) \n",
    "\n",
    "# PRT 개수 계산\n",
    "PRTs = df_stock[['PRT_1', 'PRT_2', 'PRT_3', 'PRT_4']].values\n",
    "PRTs = (PRTs[:-1] - PRTs[1:])[24*23:]\n",
    "PRTs = np.ceil(PRTs * 1.1)\n",
    "PAD = np.zeros((24*23+1, 4))\n",
    "PRTs = np.append(PRTs, PAD, axis=0).astype(int)\n",
    "\n",
    "# Submission 파일에 PRT 입력\n",
    "submission.loc[:, 'PRT_1':'PRT_4'] = PRTs\n",
    "submission.to_csv('Dacon_baseline.csv', index=False)"
   ]
  },
  {
   "cell_type": "markdown",
   "metadata": {},
   "source": [
    "### 점수 향상 팁\n",
    "해당 코드는 단순한 모델로 다음 방법으로 점수 향상을 꾀할 수 있습니다.\n",
    "1. 성형 공정 2개 라인을 따로 모델링\n",
    "2. CHANGE, STOP 이벤트 활용\n",
    "3. 수요 초과분 외 다양한 양상을 반영하는 목적함수\n",
    "4. 유전 알고리즘 외 효율적인 학습 기법"
   ]
  }
 ],
 "metadata": {
  "kernelspec": {
   "display_name": "Python 3",
   "language": "python",
   "name": "python3"
  },
  "language_info": {
   "codemirror_mode": {
    "name": "ipython",
    "version": 3
   },
   "file_extension": ".py",
   "mimetype": "text/x-python",
   "name": "python",
   "nbconvert_exporter": "python",
   "pygments_lexer": "ipython3",
   "version": "3.7.6"
  }
 },
 "nbformat": 4,
 "nbformat_minor": 4
}
